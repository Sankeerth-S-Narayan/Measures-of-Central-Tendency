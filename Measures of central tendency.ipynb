{
 "cells": [
  {
   "cell_type": "markdown",
   "id": "2f347154",
   "metadata": {},
   "source": [
    "# Mean"
   ]
  },
  {
   "cell_type": "code",
   "execution_count": 30,
   "id": "213d3ef1",
   "metadata": {},
   "outputs": [],
   "source": [
    "import numpy as np\n",
    "import statistics as sa\n",
    "import pandas as pd"
   ]
  },
  {
   "cell_type": "code",
   "execution_count": 15,
   "id": "c5bf8c38",
   "metadata": {},
   "outputs": [
    {
     "data": {
      "text/plain": [
       "3.0"
      ]
     },
     "execution_count": 15,
     "metadata": {},
     "output_type": "execute_result"
    }
   ],
   "source": [
    "arr=np.array([1,2,3,4,5])\n",
    "arr.mean()\n"
   ]
  },
  {
   "cell_type": "code",
   "execution_count": 7,
   "id": "340eccd0",
   "metadata": {},
   "outputs": [
    {
     "data": {
      "text/plain": [
       "85.83333333333333"
      ]
     },
     "execution_count": 7,
     "metadata": {},
     "output_type": "execute_result"
    }
   ],
   "source": [
    "arr1=np.array([1,2,3,4,5,500])\n",
    "arr1.mean()"
   ]
  },
  {
   "cell_type": "code",
   "execution_count": 8,
   "id": "6cddf9c9",
   "metadata": {},
   "outputs": [
    {
     "data": {
      "text/plain": [
       "48.833333333333336"
      ]
     },
     "execution_count": 8,
     "metadata": {},
     "output_type": "execute_result"
    }
   ],
   "source": [
    "arr2=np.array([7,4,21,81,64,116])\n",
    "arr2.mean()"
   ]
  },
  {
   "cell_type": "code",
   "execution_count": 9,
   "id": "f0f585cc",
   "metadata": {},
   "outputs": [
    {
     "data": {
      "text/plain": [
       "45.25"
      ]
     },
     "execution_count": 9,
     "metadata": {},
     "output_type": "execute_result"
    }
   ],
   "source": [
    "arr3=np.array([12,16,84,69,])\n",
    "arr3.mean()"
   ]
  },
  {
   "cell_type": "markdown",
   "id": "56bd731a",
   "metadata": {},
   "source": [
    "# Median"
   ]
  },
  {
   "cell_type": "code",
   "execution_count": 16,
   "id": "c8da7b56",
   "metadata": {},
   "outputs": [
    {
     "data": {
      "text/plain": [
       "3.0"
      ]
     },
     "execution_count": 16,
     "metadata": {},
     "output_type": "execute_result"
    }
   ],
   "source": [
    "a=np.median(arr)\n",
    "a"
   ]
  },
  {
   "cell_type": "code",
   "execution_count": 17,
   "id": "8904d2a6",
   "metadata": {},
   "outputs": [
    {
     "data": {
      "text/plain": [
       "3.5"
      ]
     },
     "execution_count": 17,
     "metadata": {},
     "output_type": "execute_result"
    }
   ],
   "source": [
    "b=np.median(arr1)\n",
    "b"
   ]
  },
  {
   "cell_type": "code",
   "execution_count": 18,
   "id": "c3176b58",
   "metadata": {},
   "outputs": [
    {
     "data": {
      "text/plain": [
       "42.5"
      ]
     },
     "execution_count": 18,
     "metadata": {},
     "output_type": "execute_result"
    }
   ],
   "source": [
    "c=np.median(arr2)\n",
    "c"
   ]
  },
  {
   "cell_type": "code",
   "execution_count": 19,
   "id": "38e38271",
   "metadata": {},
   "outputs": [
    {
     "data": {
      "text/plain": [
       "42.5"
      ]
     },
     "execution_count": 19,
     "metadata": {},
     "output_type": "execute_result"
    }
   ],
   "source": [
    "d=np.median(arr2)\n",
    "d"
   ]
  },
  {
   "cell_type": "markdown",
   "id": "b93084f0",
   "metadata": {},
   "source": [
    "# Mode"
   ]
  },
  {
   "cell_type": "code",
   "execution_count": 28,
   "id": "cdb480c4",
   "metadata": {},
   "outputs": [
    {
     "data": {
      "text/plain": [
       "2"
      ]
     },
     "execution_count": 28,
     "metadata": {},
     "output_type": "execute_result"
    }
   ],
   "source": [
    "d=np.array([2,2,1,1,4,5,7])\n",
    "sa.mode(d)"
   ]
  },
  {
   "cell_type": "markdown",
   "id": "c6c1a5d6",
   "metadata": {},
   "source": [
    "# Quartile"
   ]
  },
  {
   "cell_type": "code",
   "execution_count": 32,
   "id": "b5752c6c",
   "metadata": {},
   "outputs": [
    {
     "data": {
      "text/plain": [
       "234.0"
      ]
     },
     "execution_count": 32,
     "metadata": {},
     "output_type": "execute_result"
    }
   ],
   "source": [
    "sal=pd.Series([21,234,525,634,245,677,245,55,5567])\n",
    "sal.quantile(0.25)"
   ]
  },
  {
   "cell_type": "code",
   "execution_count": 33,
   "id": "87af3e6b",
   "metadata": {},
   "outputs": [
    {
     "data": {
      "text/plain": [
       "245.0"
      ]
     },
     "execution_count": 33,
     "metadata": {},
     "output_type": "execute_result"
    }
   ],
   "source": [
    "sal.quantile(0.50)"
   ]
  },
  {
   "cell_type": "code",
   "execution_count": 40,
   "id": "f40f3264",
   "metadata": {},
   "outputs": [
    {
     "data": {
      "text/plain": [
       "634.0"
      ]
     },
     "execution_count": 40,
     "metadata": {},
     "output_type": "execute_result"
    }
   ],
   "source": [
    "sal.quantile(0.75)"
   ]
  },
  {
   "cell_type": "code",
   "execution_count": 41,
   "id": "54d8fa59",
   "metadata": {},
   "outputs": [
    {
     "data": {
      "text/plain": [
       "234.0"
      ]
     },
     "execution_count": 41,
     "metadata": {},
     "output_type": "execute_result"
    }
   ],
   "source": [
    "np.quantile(sal,0.25)"
   ]
  },
  {
   "cell_type": "markdown",
   "id": "21f609ef",
   "metadata": {},
   "source": [
    "# Range"
   ]
  },
  {
   "cell_type": "code",
   "execution_count": 37,
   "id": "5ec8fad1",
   "metadata": {},
   "outputs": [
    {
     "data": {
      "text/plain": [
       "234.0"
      ]
     },
     "execution_count": 37,
     "metadata": {},
     "output_type": "execute_result"
    }
   ],
   "source": [
    "sall=np.array([21,234,525,634,245,677,245,55,5567])\n",
    "np.quantile(sall,0.25)"
   ]
  },
  {
   "cell_type": "code",
   "execution_count": 38,
   "id": "ff1736d6",
   "metadata": {},
   "outputs": [],
   "source": [
    "range1=np.max(sall)-np.min(sall)"
   ]
  },
  {
   "cell_type": "code",
   "execution_count": 39,
   "id": "7b5e99fa",
   "metadata": {},
   "outputs": [
    {
     "data": {
      "text/plain": [
       "5546"
      ]
     },
     "execution_count": 39,
     "metadata": {},
     "output_type": "execute_result"
    }
   ],
   "source": [
    "range1"
   ]
  },
  {
   "cell_type": "markdown",
   "id": "4d48b9c2",
   "metadata": {},
   "source": [
    "# Variance"
   ]
  },
  {
   "cell_type": "code",
   "execution_count": 42,
   "id": "479b1568",
   "metadata": {},
   "outputs": [
    {
     "data": {
      "text/plain": [
       "2.0"
      ]
     },
     "execution_count": 42,
     "metadata": {},
     "output_type": "execute_result"
    }
   ],
   "source": [
    "var1=np.array([1,2,3,4,5])\n",
    "np.var(var1)"
   ]
  },
  {
   "cell_type": "code",
   "execution_count": 45,
   "id": "e15f77e3",
   "metadata": {},
   "outputs": [
    {
     "data": {
      "text/plain": [
       "34308.47222222222"
      ]
     },
     "execution_count": 45,
     "metadata": {},
     "output_type": "execute_result"
    }
   ],
   "source": [
    "var2=np.array([1,2,3,4,5,500])\n",
    "var2.var()"
   ]
  },
  {
   "cell_type": "code",
   "execution_count": 46,
   "id": "34b1b655",
   "metadata": {},
   "outputs": [
    {
     "data": {
      "text/plain": [
       "0.01999999999999999"
      ]
     },
     "execution_count": 46,
     "metadata": {},
     "output_type": "execute_result"
    }
   ],
   "source": [
    "var3=np.array([1.1,1.2,1.3,1.4,1.5])\n",
    "var3.var()"
   ]
  },
  {
   "cell_type": "markdown",
   "id": "2ade7f8d",
   "metadata": {},
   "source": [
    "# Standard Deviation"
   ]
  },
  {
   "cell_type": "code",
   "execution_count": 48,
   "id": "9476e564",
   "metadata": {},
   "outputs": [
    {
     "data": {
      "text/plain": [
       "1.4142135623730951"
      ]
     },
     "execution_count": 48,
     "metadata": {},
     "output_type": "execute_result"
    }
   ],
   "source": [
    "np.std(var1)"
   ]
  },
  {
   "cell_type": "code",
   "execution_count": 49,
   "id": "657170b1",
   "metadata": {},
   "outputs": [
    {
     "data": {
      "text/plain": [
       "185.22546321233003"
      ]
     },
     "execution_count": 49,
     "metadata": {},
     "output_type": "execute_result"
    }
   ],
   "source": [
    "np.std(var2)"
   ]
  },
  {
   "cell_type": "code",
   "execution_count": 50,
   "id": "bad3c023",
   "metadata": {},
   "outputs": [
    {
     "data": {
      "text/plain": [
       "0.14142135623730948"
      ]
     },
     "execution_count": 50,
     "metadata": {},
     "output_type": "execute_result"
    }
   ],
   "source": [
    "var3.std()"
   ]
  },
  {
   "cell_type": "markdown",
   "id": "66f4648d",
   "metadata": {},
   "source": [
    "# Interquartile range"
   ]
  },
  {
   "cell_type": "code",
   "execution_count": 55,
   "id": "ead7d978",
   "metadata": {},
   "outputs": [
    {
     "name": "stdout",
     "output_type": "stream",
     "text": [
      "q1 234.0\n",
      "q2 634.0\n",
      "IQR 400.0\n"
     ]
    }
   ],
   "source": [
    "salary=np.array([21,234,525,634,245,677,245,55,5567])\n",
    "q1=np.quantile(salary,0.25)\n",
    "q2=np.quantile(salary,0.75)\n",
    "print(\"q1\",q1)\n",
    "print(\"q2\",q2)\n",
    "IQR=q2-q1\n",
    "print(\"IQR\",IQR)"
   ]
  },
  {
   "cell_type": "markdown",
   "id": "4f1a961d",
   "metadata": {},
   "source": [
    "# Skewness"
   ]
  },
  {
   "cell_type": "code",
   "execution_count": 56,
   "id": "c6afab70",
   "metadata": {},
   "outputs": [
    {
     "data": {
      "text/plain": [
       "1.4068285846778443"
      ]
     },
     "execution_count": 56,
     "metadata": {},
     "output_type": "execute_result"
    }
   ],
   "source": [
    "var4=np.array([1,1.5,2,3,4,5])\n",
    "np.std(var4)"
   ]
  },
  {
   "cell_type": "code",
   "execution_count": 57,
   "id": "742f3cff",
   "metadata": {},
   "outputs": [
    {
     "data": {
      "text/plain": [
       "2.75"
      ]
     },
     "execution_count": 57,
     "metadata": {},
     "output_type": "execute_result"
    }
   ],
   "source": [
    "var4.mean()"
   ]
  },
  {
   "cell_type": "code",
   "execution_count": 60,
   "id": "770aa8c7",
   "metadata": {},
   "outputs": [
    {
     "data": {
      "text/plain": [
       "2.5"
      ]
     },
     "execution_count": 60,
     "metadata": {},
     "output_type": "execute_result"
    }
   ],
   "source": [
    "a=np.median(var4)\n",
    "a"
   ]
  },
  {
   "cell_type": "code",
   "execution_count": 66,
   "id": "c570f4fc",
   "metadata": {},
   "outputs": [],
   "source": [
    "# skew=3(mean-median)/std"
   ]
  }
 ],
 "metadata": {
  "kernelspec": {
   "display_name": "Python 3",
   "language": "python",
   "name": "python3"
  },
  "language_info": {
   "codemirror_mode": {
    "name": "ipython",
    "version": 3
   },
   "file_extension": ".py",
   "mimetype": "text/x-python",
   "name": "python",
   "nbconvert_exporter": "python",
   "pygments_lexer": "ipython3",
   "version": "3.8.8"
  }
 },
 "nbformat": 4,
 "nbformat_minor": 5
}
